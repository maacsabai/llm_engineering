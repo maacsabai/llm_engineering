{
 "cells": [
  {
   "cell_type": "markdown",
   "id": "fe12c203-e6a6-452c-a655-afb8a03a4ff5",
   "metadata": {},
   "source": [
    "# End of week 1 exercise\n",
    "\n",
    "To demonstrate your familiarity with OpenAI API, and also Ollama, build a tool that takes a technical question,  \n",
    "and responds with an explanation. This is a tool that you will be able to use yourself during the course!"
   ]
  },
  {
   "cell_type": "code",
   "execution_count": 1,
   "id": "c1070317-3ed9-4659-abe3-828943230e03",
   "metadata": {},
   "outputs": [],
   "source": [
    "# imports\n",
    "import os\n",
    "import requests\n",
    "import json\n",
    "from typing import List\n",
    "from dotenv import load_dotenv\n",
    "from bs4 import BeautifulSoup\n",
    "from IPython.display import Markdown, display, update_display\n",
    "from openai import OpenAI"
   ]
  },
  {
   "cell_type": "code",
   "execution_count": 2,
   "id": "4a456906-915a-4bfd-bb9d-57e505c5093f",
   "metadata": {},
   "outputs": [],
   "source": [
    "# constants\n",
    "\n",
    "MODEL_GPT = 'gpt-4o-mini'\n",
    "MODEL_LLAMA = 'llama3.2'"
   ]
  },
  {
   "cell_type": "code",
   "execution_count": 3,
   "id": "a8d7923c-5f28-4c30-8556-342d7c8497c1",
   "metadata": {},
   "outputs": [
    {
     "name": "stdout",
     "output_type": "stream",
     "text": [
      "API key looks good so far\n"
     ]
    }
   ],
   "source": [
    "# set up environment\n",
    "load_dotenv(override=True)\n",
    "api_key = os.getenv('OPENAI_API_KEY')\n",
    "\n",
    "if api_key and api_key.startswith('sk-proj-') and len(api_key)>10:\n",
    "    print(\"API key looks good so far\")\n",
    "else:\n",
    "    print(\"There might be a problem with your API key? Please visit the troubleshooting notebook!\")\n",
    "    \n",
    "#MODEL = 'gpt-4o-mini'\n",
    "openai = OpenAI()"
   ]
  },
  {
   "cell_type": "code",
   "execution_count": 5,
   "id": "cb98ca7d-012b-4444-963e-6476c6e02a35",
   "metadata": {},
   "outputs": [],
   "source": [
    "system_prompt = \"You are an assistant that takes a technical question, and responds with an explanation\""
   ]
  },
  {
   "cell_type": "code",
   "execution_count": 6,
   "id": "3f0d0137-52b0-47a8-81a8-11a90a010798",
   "metadata": {},
   "outputs": [],
   "source": [
    "# here is the question; type over this to ask something new\n",
    "\n",
    "question = \"\"\"\n",
    "Please explain what this code does and why:\n",
    "yield from {book.get(\"author\") for book in books if book.get(\"author\")}\n",
    "\"\"\""
   ]
  },
  {
   "cell_type": "code",
   "execution_count": 10,
   "id": "ea8146ed-c78e-4c38-a696-aec0472d5b69",
   "metadata": {},
   "outputs": [],
   "source": [
    "messages=[\n",
    "            {\"role\": \"system\", \"content\": system_prompt},\n",
    "            {\"role\": \"user\", \"content\": question}\n",
    "          ]"
   ]
  },
  {
   "cell_type": "code",
   "execution_count": 11,
   "id": "60ce7000-a4a5-4cce-a261-e75ef45063b4",
   "metadata": {},
   "outputs": [],
   "source": [
    "def stream_brochure(system_prompt, question, MODEL, messages):\n",
    "    stream = openai.chat.completions.create(\n",
    "        model=MODEL,\n",
    "        messages=messages,\n",
    "        stream=True\n",
    "    )\n",
    "    \n",
    "    response = \"\"\n",
    "    display_handle = display(Markdown(\"\"), display_id=True)\n",
    "    for chunk in stream:\n",
    "        response += chunk.choices[0].delta.content or ''\n",
    "        response = response.replace(\"```\",\"\").replace(\"markdown\", \"\")\n",
    "        update_display(Markdown(response), display_id=display_handle.display_id)"
   ]
  },
  {
   "cell_type": "code",
   "execution_count": 12,
   "id": "7e245398-4531-4d5b-bdaf-d6976db41491",
   "metadata": {},
   "outputs": [
    {
     "data": {
      "text/markdown": [
       "This line of code is using Python's `yield from` construct along with a set comprehension to extract the authors of books from a collection called `books`. Let’s break it down:\n",
       "\n",
       "1. **`{book.get(\"author\") for book in books if book.get(\"author\")}`**: This is a set comprehension, which creates a set of unique authors from the `books` collection. Here’s how it works:\n",
       "   - `for book in books`: This iterates over each `book` in the `books` collection.\n",
       "   - `book.get(\"author\")`: This attempts to retrieve the value associated with the key `\"author\"` from the `book` dictionary.\n",
       "   - `if book.get(\"author\")`: This condition checks if the author exists (i.e., it is not `None` or an empty string). If it exists, it will be included in the resulting set.\n",
       "\n",
       "   The result of this comprehension is a set of unique authors (since sets do not allow duplicate values).\n",
       "\n",
       "2. **`yield from`**: This is a keyword used in generator functions in Python. It yields each item from the iterable that follows it, one at a time. In this case, it will yield each author from the set created by the comprehension.\n",
       "\n",
       "### Practical Scenario:\n",
       "Imagine you have a list of books with potential duplicates in authors, and you want to create a generator that yields each unique author only if they are listed for at least one book. The line of code effectively provides a way to do this.\n",
       "\n",
       "### Why Use This?\n",
       "- **Uniqueness**: By using a set comprehension, you ensure that each author is only yielded once, regardless of how many books they are associated with.\n",
       "- **Lazy Evaluation**: The use of `yield from` allows for lazy evaluation, meaning that authors are generated only as needed instead of creating a complete list in memory upfront.\n",
       "- **Conciseness**: This one-liner is a concise way of expressing what could take multiple lines: filtering, deduplicating, and yielding.\n",
       "\n",
       "In sum, this line of code efficiently extracts and yields unique authors from a list of books, ensuring that only existing authors are included, while also promoting memory efficiency through lazy evaluation."
      ],
      "text/plain": [
       "<IPython.core.display.Markdown object>"
      ]
     },
     "metadata": {},
     "output_type": "display_data"
    }
   ],
   "source": [
    "stream_brochure(system_prompt, question, MODEL_GPT, messages)"
   ]
  },
  {
   "cell_type": "code",
   "execution_count": 13,
   "id": "8f7c8ea8-4082-4ad0-8751-3301adcf6538",
   "metadata": {},
   "outputs": [
    {
     "name": "stdout",
     "output_type": "stream",
     "text": [
      "**Understanding the Yield From Statement**\n",
      "\n",
      "The given code snippet is written in Python 3.x and utilizes a feature called \"yield from\". Here's a breakdown of what it does:\n",
      "\n",
      "**Individual Components:**\n",
      "\n",
      "1. `{... for book in books}` creates a generator expression, iterating over each element (`book`) in the `books` collection.\n",
      "2. `if book.get(\"author\")` filters the results to only include elements where `book.get(\"author\")` returns a truthy value (i.e., not None, empty string, etc.)\n",
      "3. `{...}` applies another generator expression around the previous expressions\n",
      "4. `yield from ...` is the \"yield from\" statement, which takes all items from the inner iterable and yields them one by one.\n",
      "\n",
      "**Putting It Together:**\n",
      "\n",
      "When you put it all together, this code:\n",
      "\n",
      "1. Filters a collection of books (`books`) to only include those with a valid author information.\n",
      "2. For each book that passes the filter, it yields the author's name as if they were generating values directly from the outer scope.\n",
      "\n",
      "In essence, this code is similar to writing an explicit for loop to iterate over `books` and then yield their corresponding authors, but it uses generate expressions with \"yield from\" for a more concise and expressive way to achieve the same result.\n",
      "\n",
      "**Equivalent Explicit For Loop:**\n",
      "\n",
      "To illustrate the idea further, here's how you might write the same logic using an explicit for loop:\n",
      "```python\n",
      "for book in books:\n",
      "    author = book.get(\"author\")\n",
      "    if author:  # or check if it's truthy instead of explicitly False\n",
      "        yield author\n",
      "```\n",
      "While this explicit syntax is more verbose, the \"yield from\" statement provides a cleaner and more readable alternative.\n",
      "\n",
      "**Use Cases:**\n",
      "\n",
      "This pattern (generate -> filter -> yield) is commonly seen in iteration over data structures where you need to perform some criteria before yielding the values.\n"
     ]
    }
   ],
   "source": [
    "# Get Llama 3.2 to answer\n",
    "ollama_via_openai = OpenAI(base_url='http://localhost:11434/v1', api_key='ollama')\n",
    "\n",
    "response = ollama_via_openai.chat.completions.create(\n",
    "    model=MODEL_LLAMA,\n",
    "    messages=messages\n",
    ")\n",
    "\n",
    "print(response.choices[0].message.content)"
   ]
  },
  {
   "cell_type": "code",
   "execution_count": null,
   "id": "fe1e338a-90c2-498f-acaa-003c08e8a227",
   "metadata": {},
   "outputs": [],
   "source": []
  }
 ],
 "metadata": {
  "kernelspec": {
   "display_name": "Python 3 (ipykernel)",
   "language": "python",
   "name": "python3"
  },
  "language_info": {
   "codemirror_mode": {
    "name": "ipython",
    "version": 3
   },
   "file_extension": ".py",
   "mimetype": "text/x-python",
   "name": "python",
   "nbconvert_exporter": "python",
   "pygments_lexer": "ipython3",
   "version": "3.11.11"
  }
 },
 "nbformat": 4,
 "nbformat_minor": 5
}
